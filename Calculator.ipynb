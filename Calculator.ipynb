{
  "nbformat": 4,
  "nbformat_minor": 0,
  "metadata": {
    "colab": {
      "provenance": []
    },
    "kernelspec": {
      "name": "python3",
      "display_name": "Python 3"
    },
    "language_info": {
      "name": "python"
    }
  },
  "cells": [
    {
      "cell_type": "code",
      "source": [
        "def add(a, b):\n",
        "    return a + b\n",
        "def sub(a, b):\n",
        "    return a - b\n",
        "def mul(a, b):\n",
        "    return a * b\n",
        "def div(a, b):\n",
        "    return a / b\n",
        "def cal():\n",
        "    while True:  # runs until user chooses to exit\n",
        "        print(\"\\n...Welcome to the CIT Calculator...\")\n",
        "        print(\"1. Addition\")\n",
        "        print(\"2. Subtraction\")\n",
        "        print(\"3. Multiplication\")\n",
        "        print(\"4. Division\")\n",
        "        print(\"5. Exit\")\n",
        "        choice = input(\"Enter your choice (1/2/3/4/5): \")\n",
        "        if choice == \"5\":\n",
        "            print(\"Exiting the calculator. Thank you!\")\n",
        "            break\n",
        "        if choice in [\"1\", \"2\", \"3\", \"4\"]:\n",
        "            try:\n",
        "                num1 = float(input(\"Enter the 1st value: \"))\n",
        "                num2 = float(input(\"Enter the 2nd value: \"))\n",
        "                if choice == \"1\":\n",
        "                    print(f\"value of num1 is {num1} and num2 is {num2} and addition is {add(num1,num2)}\")\n",
        "                elif choice == \"2\":\n",
        "                    print(f\"value of num1 is {num1} and num2 is {num2} and Subtraction is {sub(num1,num2)}\")\n",
        "                elif choice == \"3\":\n",
        "                    print(f\"value of num1 is {num1} and num2 is {num2} and Multiplication is {mul(num1,num2)}\")\n",
        "                elif choice == \"4\":\n",
        "                    try:\n",
        "                        print(f\"value of num1 is {num1} and num2 is {num2} and DivisionE is {div(num1,num2)}\")\n",
        "                    except ZeroDivisionError:\n",
        "                        print(\"You cannot divide a number by zero.\")\n",
        "            except Exception as e:\n",
        "                print(f\"the error is happens due to {e}\")\n",
        "        else:\n",
        "            print(\"Invalid choice! Please enter 1–5.\")\n",
        "cal()\n"
      ],
      "metadata": {
        "colab": {
          "base_uri": "https://localhost:8080/"
        },
        "id": "dT1lNtcxcr9z",
        "outputId": "e3f592c5-d101-4067-ffe3-d6447c06874a"
      },
      "execution_count": null,
      "outputs": [
        {
          "output_type": "stream",
          "name": "stdout",
          "text": [
            "\n",
            "...Welcome to the CIT Calculator...\n",
            "1. Addition\n",
            "2. Subtraction\n",
            "3. Multiplication\n",
            "4. Division\n",
            "5. Exit\n",
            "Enter your choice (1/2/3/4/5): 2\n",
            "Enter the 1st value: 50\n",
            "Enter the 2nd value: 20\n",
            "value of num1 is 50.0 and num2 is 20.0 and Subtraction is 30.0\n",
            "\n",
            "...Welcome to the CIT Calculator...\n",
            "1. Addition\n",
            "2. Subtraction\n",
            "3. Multiplication\n",
            "4. Division\n",
            "5. Exit\n",
            "Enter your choice (1/2/3/4/5): 5\n",
            "Exiting the calculator. Thank you!\n"
          ]
        }
      ]
    }
  ]
}